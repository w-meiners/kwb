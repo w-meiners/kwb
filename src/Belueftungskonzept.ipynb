{
 "cells": [
  {
   "cell_type": "markdown",
   "metadata": {
    "slideshow": {
     "slide_type": "slide"
    }
   },
   "source": [
    "# Notwendigkeit eines Belüftungskonzeptes"
   ]
  },
  {
   "cell_type": "markdown",
   "metadata": {
    "slideshow": {
     "slide_type": "subslide"
    }
   },
   "source": [
    "Ein Belüftungskonzept ist nach DIN 1946-6 notwendig, wenn die natürliche Belüftung des Gebäudes - der Infiltrationsvolumenstrom - nicht für den Feuchteschutz des Gebäudes ausreicht. Um dies zu überprüfen, wird zunächst der erforderliche **Zuluftvolumenstrom** des Gebäudes ermittelt:\n",
    "\n",
    "\\begin{align}\n",
    "  {\\dot V}_\\text{ges,zu} &= -0.001\\,A_\\text{N}^2 + 1.15\\,A_\\text{N} + 20\n",
    "  \\quad\\text{in}\\quad \\dfrac{m^3}{h},\\\\\n",
    "  &\\phantom{xxx}\\quad\\text{mit}\\quad A_\\text{N}: \\text{Nutzfläche in } m^2\n",
    "\\end{align}"
   ]
  },
  {
   "cell_type": "markdown",
   "metadata": {
    "slideshow": {
     "slide_type": "slide"
    }
   },
   "source": [
    "Der zum **Feuchteschutz** benötigte Volumenstrom ist gegeben durch\n",
    "\n",
    "\\begin{align}\n",
    "  {\\dot V}_\\text{FL} &=\n",
    "  \\begin{cases}\n",
    "    0.3 \\,{\\dot V}_\\text{ges,zu} & \\text{Wärmedämmung mindestens nach WSchV95}\\\\\n",
    "    0.4 \\,{\\dot V}_\\text{ges,zu} & \\text{sonst}\n",
    "  \\end{cases}\n",
    "\\end{align}"
   ]
  },
  {
   "cell_type": "markdown",
   "metadata": {
    "slideshow": {
     "slide_type": "slide"
    }
   },
   "source": [
    "Der gesamte **Abluftvolumenstrom** wird ermittelt aus den erforderlichen Mindestabluftvolumenströmen der Ablufträume:\n",
    "\n",
    "$$\n",
    "  {\\dot V}_\\text{ges,ab} = \\sum_{j\\in\\text{Ab}} {\\dot V}_{j,\\min}\n",
    "$$"
   ]
  },
  {
   "cell_type": "markdown",
   "metadata": {
    "slideshow": {
     "slide_type": "slide"
    }
   },
   "source": [
    "Dabei sind die erforderlichen **Mindestabluftvolumenströme** festgelegt durch\n",
    "\n",
    "\\begin{align}\n",
    "  {\\dot V_\\min} = \n",
    "  \\begin{cases}\n",
    "    25\\,\\dfrac{m^3}{h} & \\text{WC} \\\\\n",
    "    25\\,\\dfrac{m^3}{h} & \\text{Flur}\\\\\n",
    "    25\\,\\dfrac{m^3}{h} & \\text{Abstellraum}\\\\\n",
    "    25\\,\\dfrac{m^3}{h} & \\text{Hausarbeitsraum}\\\\\n",
    "    45\\,\\dfrac{m^3}{h} & \\text{Küche}\\\\\n",
    "    45\\,\\dfrac{m^3}{h} & \\text{Bad}\\\\\n",
    "  \\end{cases}\n",
    "\\end{align}"
   ]
  },
  {
   "cell_type": "markdown",
   "metadata": {
    "slideshow": {
     "slide_type": "slide"
    }
   },
   "source": [
    "Der erforderliche Gesamtvolumenstrom ergibt sich als Maximum der zuvor berechneten Volumenströme:\n",
    "\n",
    "$$\n",
    "  {\\dot V}_\\text{ges} = \\max\\left({\\dot V}_\\text{ges,zu},{\\dot V}_\\text{ges,ab}\\right)\n",
    "$$"
   ]
  },
  {
   "cell_type": "markdown",
   "metadata": {
    "slideshow": {
     "slide_type": "slide"
    }
   },
   "source": [
    "Der **Infiltrationsvolumenstrom** wird berechnet durch\n",
    "\n",
    "$$\n",
    "  {\\dot V}_\\text{inf} = f_\\text{inf}\\,A_\\text{N}\\,h\\,n_{50}\\cdot\n",
    "  \\left(\n",
    "    \\dfrac{\\Delta p}{50\\,\\text{Pa}}\n",
    "  \\right)^{0.667}\n",
    "$$"
   ]
  },
  {
   "cell_type": "markdown",
   "metadata": {
    "slideshow": {
     "slide_type": "slide"
    }
   },
   "source": [
    "Dabei ist der Infiltrationsfaktor $f_\\text{inf}$ gegeben durch\n",
    "\n",
    "\\begin{align}\n",
    "  f_\\text{inf} =\n",
    "  \\begin{cases}\n",
    "    0.50 & \\text{Einfamilienhaus}\\\\\n",
    "    0.45 & \\text{Mehrfamilienhaus ohne Installationsschacht}\\\\\n",
    "    0.40 & \\text{Mehrfamilienhaus mit Installationsschacht}\n",
    "  \\end{cases}\n",
    "\\end{align}"
   ]
  },
  {
   "cell_type": "markdown",
   "metadata": {
    "slideshow": {
     "slide_type": "slide"
    }
   },
   "source": [
    "Der Druckverlust $\\Delta p$ hängt vom Winddruck auf das Gebäude ab. Ist dieser nicht bekannt, so wird er mit der folgenden Formel abgeschätzt:\n",
    "\n",
    "\\begin{align}\n",
    "  \\Delta p =\n",
    "  \\begin{cases}\n",
    "    2\\,\\text{Pa} & \\text{Eingeschossig, windschwaches Gebiet}, \\\\\n",
    "    4\\,\\text{Pa} & \\text{Eingeschossig, windstarkes Gebiet}, \\\\\n",
    "    5\\,\\text{Pa} & \\text{Mehrgeschossig, windschwaches Gebiet}, \\\\\n",
    "    7\\,\\text{Pa} & \\text{Mehrgeschossig, windstarkes Gebiet}. \\\\\n",
    "  \\end{cases}\n",
    "\\end{align}"
   ]
  },
  {
   "cell_type": "markdown",
   "metadata": {
    "slideshow": {
     "slide_type": "slide"
    }
   },
   "source": [
    "Ein Belüftungskonzept ist nötig, wenn der Infiltrationsvolumenstrom nicht ausreicht, um den Feuchteschutz sicherzustellen:\n",
    "\n",
    "$$\n",
    "  {\\dot V}_\\text{FL} > {\\dot V}_\\text{inf}\n",
    "  \\implies\\quad\n",
    "  \\text{Belüftungskonzept ist nötig}\n",
    "$$"
   ]
  },
  {
   "cell_type": "markdown",
   "metadata": {
    "slideshow": {
     "slide_type": "subslide"
    }
   },
   "source": [
    "Wird die Belüftung maschinell sichergestellt, so kann der Infiltrationsvolumenstrom vom erforderlichen Volumenstrom abgezogen werden. Der erforderliche **Ventilatorvolumenstrom** ist dann\n",
    "\n",
    "$$\n",
    "  {\\dot V}_\\text{L} = {\\dot V}_\\text{ges,zu} - {\\dot V}_\\text{inf}\n",
    "$$"
   ]
  },
  {
   "cell_type": "markdown",
   "metadata": {
    "slideshow": {
     "slide_type": "slide"
    }
   },
   "source": [
    "Nachdem der Ventilatorvolumenstrom ${\\dot V}_\\text{L}$ berechnet wurde, ist die Verteilung der Zuluftvolumenströme auf die Zulufträume und der Abluftvolumenströme auf die Ablufträume durchzuführen."
   ]
  },
  {
   "cell_type": "markdown",
   "metadata": {
    "slideshow": {
     "slide_type": "slide"
    }
   },
   "source": [
    "# Verteilung des Zuluftvolumenstroms auf die Zulufträume"
   ]
  },
  {
   "cell_type": "markdown",
   "metadata": {
    "slideshow": {
     "slide_type": "subslide"
    }
   },
   "source": [
    "Die Verteilung des Zuluftvolumenstroms auf die Zulufträume erfolgt mit Hilfe von Faktoren nach der Formel\n",
    "\n",
    "$$\n",
    "  {\\dot V}_i = \\dfrac{f_i}{\\sum_{j\\in\\text{zu}} f_j}\\,{\\dot V}_L \\quad\n",
    "  \\text{für}\\quad i\\in\\text{zu}\n",
    "$$"
   ]
  },
  {
   "cell_type": "markdown",
   "metadata": {
    "slideshow": {
     "slide_type": "slide"
    }
   },
   "source": [
    "Bei der Auswahl der Faktoren besteht eine gewisse Freiheit, mit der Anpassungen an die jeweilige Wohnung vorgenommen werden können:\n",
    "\n",
    "$$\n",
    "  f = \n",
    "  \\begin{cases}\n",
    "    3\\,(\\pm 0.5) & \\text{Wohnzimmer} \\\\\n",
    "    2\\,(\\pm 1.0) & \\text{Schlaf- und Kinderzimmer}\\\\\n",
    "    1.5\\,(\\pm 0.5) & \\text{Ess-, Gäste- und Arbeitszimmer}\n",
    "  \\end{cases}\n",
    "$$"
   ]
  },
  {
   "cell_type": "markdown",
   "metadata": {
    "slideshow": {
     "slide_type": "slide"
    }
   },
   "source": [
    "Die Strömungsgeschwindigkeit in zu Zu- und Abluftkanälen soll $v \\approx 1.5\\cdots 2.5\\,\\frac{m}{s}$ nicht überschreiten. Als Richtwert kann man in Auslegungen von $v=2\\,\\dfrac{m}{s}$ ausgehen. Damit ergeben sich die erforderlichen Querschnitte gemäß\n",
    "\n",
    "\\begin{align}\n",
    "  A_i &= \\dfrac{{\\dot V}_i}{v},\\quad\\text{bzw.}\\\\[2ex]\n",
    "  d_i &= \n",
    "    \\sqrt{\\dfrac{4\\,{\\dot V}_i}{\\pi\\,v}} \\quad\\text{für runde Querschnitte}\n",
    "\\end{align}"
   ]
  },
  {
   "cell_type": "markdown",
   "metadata": {
    "slideshow": {
     "slide_type": "slide"
    }
   },
   "source": [
    "Die gewählten Querschnitte müssen mindestens so groß sein, wie die berechneten. Nach der Auswahl von Querschnitten $A_i'$ bzw. $d_i'$ ist die wirkliche Geschwindigkeit $v_i'$ zu ermitteln. Hierzu können die Proportionalitätsbeziehungen\n",
    "\n",
    "\\begin{align}\n",
    "  v_i' &= \\dfrac{A_i}{A_i'}\\, v_i, \\quad\\text{bzw.}\\\\[2ex]\n",
    "  v_i' &= \n",
    "    \\left(\n",
    "      \\dfrac{d_i}{d_i'}\n",
    "    \\right)^2\\, v_i \\quad\\text{für runde Querschnitte}\n",
    "\\end{align}\n",
    "\n",
    "benutzt werden."
   ]
  },
  {
   "cell_type": "markdown",
   "metadata": {
    "slideshow": {
     "slide_type": "slide"
    }
   },
   "source": [
    "# Verteilung des Abluftvolumenstroms auf die Ablufträume"
   ]
  },
  {
   "cell_type": "markdown",
   "metadata": {
    "slideshow": {
     "slide_type": "subslide"
    }
   },
   "source": [
    "Die Verteilung des Abluftvolumenstroms auf die Ablufträume erfolgt analog zu den Zulufträumen. Die Faktoren $f_i$ werden dabei durch die minimal erforderlichen Abluftvolumenströme `dV_min` jedes Abluftraumes ermittelt.\n",
    "\n",
    "Es ist\n",
    "\n",
    "$$\n",
    "  {\\dot V}_i = \\dfrac{\\dot V_{i,\\min}}{\\sum_{j\\in\\text{ab}} \\dot V_{j,\\min}}\\,{\\dot V}_L \\quad\n",
    "  \\text{für}\\quad i\\in\\text{ab}\n",
    "$$"
   ]
  },
  {
   "cell_type": "markdown",
   "metadata": {
    "slideshow": {
     "slide_type": "subslide"
    }
   },
   "source": [
    "Die weiteren Berechnungen erfolgen analog zu den Berechnungen der Zuluftvolumenströme."
   ]
  }
 ],
 "metadata": {
  "celltoolbar": "Slideshow",
  "kernelspec": {
   "display_name": "python 3.6",
   "language": "python",
   "name": "python36"
  },
  "language_info": {
   "codemirror_mode": {
    "name": "ipython",
    "version": 3
   },
   "file_extension": ".py",
   "mimetype": "text/x-python",
   "name": "python",
   "nbconvert_exporter": "python",
   "pygments_lexer": "ipython3",
   "version": "3.6.8"
  }
 },
 "nbformat": 4,
 "nbformat_minor": 1
}
