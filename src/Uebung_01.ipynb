{
  "cells": [
    {
      "metadata": {
        "trusted": true
      },
      "cell_type": "code",
      "source": "import bel_konzept as bk\nimport pandas as pd\nimport numpy as np",
      "execution_count": 1,
      "outputs": []
    },
    {
      "metadata": {
        "trusted": true
      },
      "cell_type": "code",
      "source": "df_whg = pd.DataFrame(\n    [('Schlafen',13.47,'zu'),\n     ('Bad',9.06,'ab',45),\n     ('Abstellraum',2.57,'ab',25),\n     ('Kochen',7.16,'ab',45),\n     ('Wohnen',26.98,'zu'),\n     ('Zimmer_2',13.96,'zu'),\n     ('Zimmer_1',11.89,'zu'),\n     ('WC',1.45,'ab',25),\n     ('Flur',9.07)\n    ],\n    columns=['Raum','Flaeche','Typ','dV_min']\n)\ndf_whg",
      "execution_count": 2,
      "outputs": [
        {
          "output_type": "execute_result",
          "execution_count": 2,
          "data": {
            "text/html": "<div>\n<style scoped>\n    .dataframe tbody tr th:only-of-type {\n        vertical-align: middle;\n    }\n\n    .dataframe tbody tr th {\n        vertical-align: top;\n    }\n\n    .dataframe thead th {\n        text-align: right;\n    }\n</style>\n<table border=\"1\" class=\"dataframe\">\n  <thead>\n    <tr style=\"text-align: right;\">\n      <th></th>\n      <th>Raum</th>\n      <th>Flaeche</th>\n      <th>Typ</th>\n      <th>dV_min</th>\n    </tr>\n  </thead>\n  <tbody>\n    <tr>\n      <th>0</th>\n      <td>Schlafen</td>\n      <td>13.47</td>\n      <td>zu</td>\n      <td>NaN</td>\n    </tr>\n    <tr>\n      <th>1</th>\n      <td>Bad</td>\n      <td>9.06</td>\n      <td>ab</td>\n      <td>45.0</td>\n    </tr>\n    <tr>\n      <th>2</th>\n      <td>Abstellraum</td>\n      <td>2.57</td>\n      <td>ab</td>\n      <td>25.0</td>\n    </tr>\n    <tr>\n      <th>3</th>\n      <td>Kochen</td>\n      <td>7.16</td>\n      <td>ab</td>\n      <td>45.0</td>\n    </tr>\n    <tr>\n      <th>4</th>\n      <td>Wohnen</td>\n      <td>26.98</td>\n      <td>zu</td>\n      <td>NaN</td>\n    </tr>\n    <tr>\n      <th>5</th>\n      <td>Zimmer_2</td>\n      <td>13.96</td>\n      <td>zu</td>\n      <td>NaN</td>\n    </tr>\n    <tr>\n      <th>6</th>\n      <td>Zimmer_1</td>\n      <td>11.89</td>\n      <td>zu</td>\n      <td>NaN</td>\n    </tr>\n    <tr>\n      <th>7</th>\n      <td>WC</td>\n      <td>1.45</td>\n      <td>ab</td>\n      <td>25.0</td>\n    </tr>\n    <tr>\n      <th>8</th>\n      <td>Flur</td>\n      <td>9.07</td>\n      <td>None</td>\n      <td>NaN</td>\n    </tr>\n  </tbody>\n</table>\n</div>",
            "text/plain": "          Raum  Flaeche   Typ  dV_min\n0     Schlafen    13.47    zu     NaN\n1          Bad     9.06    ab    45.0\n2  Abstellraum     2.57    ab    25.0\n3       Kochen     7.16    ab    45.0\n4       Wohnen    26.98    zu     NaN\n5     Zimmer_2    13.96    zu     NaN\n6     Zimmer_1    11.89    zu     NaN\n7           WC     1.45    ab    25.0\n8         Flur     9.07  None     NaN"
          },
          "metadata": {}
        }
      ]
    },
    {
      "metadata": {},
      "cell_type": "markdown",
      "source": "Nutzfläche in $m^2$"
    },
    {
      "metadata": {
        "trusted": true
      },
      "cell_type": "code",
      "source": "A_N = df_whg.Flaeche.sum()\nA_N",
      "execution_count": 3,
      "outputs": [
        {
          "output_type": "execute_result",
          "execution_count": 3,
          "data": {
            "text/plain": "95.61000000000001"
          },
          "metadata": {}
        }
      ]
    },
    {
      "metadata": {},
      "cell_type": "markdown",
      "source": "Gesamter Zuluftvolumenstrom nach DIN 1946-6"
    },
    {
      "metadata": {
        "trusted": true
      },
      "cell_type": "code",
      "source": "dV_ges_zu = bk.dV_ges_zu(A_N)\ndV_ges_zu # Gesamter Zuluftvolumenstrom in m**3/h",
      "execution_count": 4,
      "outputs": [
        {
          "output_type": "execute_result",
          "execution_count": 4,
          "data": {
            "text/plain": "120.8102279"
          },
          "metadata": {}
        }
      ]
    },
    {
      "metadata": {},
      "cell_type": "markdown",
      "source": "Gesamter Abluftvolumenstrom nach DIN 1946-6"
    },
    {
      "metadata": {
        "trusted": true
      },
      "cell_type": "code",
      "source": "dV_ges_ab = df_whg[df_whg.Typ == 'ab'].dV_min.sum()\ndV_ges_ab # Gesamter Abluftvolumenstrom in m**3/h",
      "execution_count": 5,
      "outputs": [
        {
          "output_type": "execute_result",
          "execution_count": 5,
          "data": {
            "text/plain": "140.0"
          },
          "metadata": {}
        }
      ]
    },
    {
      "metadata": {},
      "cell_type": "markdown",
      "source": "Gesamter Volumenstrom"
    },
    {
      "metadata": {
        "trusted": true
      },
      "cell_type": "code",
      "source": "dV_ges=max(dV_ges_zu,dV_ges_ab)\ndV_ges",
      "execution_count": 6,
      "outputs": [
        {
          "output_type": "execute_result",
          "execution_count": 6,
          "data": {
            "text/plain": "140.0"
          },
          "metadata": {}
        }
      ]
    },
    {
      "metadata": {},
      "cell_type": "markdown",
      "source": "Infiltrationsvolumenstrom nach DIN 1946-6"
    },
    {
      "metadata": {
        "trusted": true
      },
      "cell_type": "code",
      "source": "f_inf = 0.4 # Mehrgeschossig, Installationsschacht\nn_50 = 1 # h**(-1)\nh = 2.50 # m\ndelta_p = 5 # Mehrgeschossig, Windschwach\n\ndV_inf = bk.dV_inf(f_inf,A_N,h,n_50,delta_p)\ndV_inf # Infiltrationsvolumenstrom in m**3/h",
      "execution_count": 7,
      "outputs": [
        {
          "output_type": "execute_result",
          "execution_count": 7,
          "data": {
            "text/plain": "20.58274616569973"
          },
          "metadata": {}
        }
      ]
    },
    {
      "metadata": {},
      "cell_type": "markdown",
      "source": "Lüftungsvolumenstrom nach DIN 1946-6"
    },
    {
      "metadata": {
        "trusted": true
      },
      "cell_type": "code",
      "source": "dV_L = dV_ges - dV_inf\ndV_L",
      "execution_count": 8,
      "outputs": [
        {
          "output_type": "execute_result",
          "execution_count": 8,
          "data": {
            "text/plain": "119.41725383430027"
          },
          "metadata": {}
        }
      ]
    },
    {
      "metadata": {
        "trusted": true
      },
      "cell_type": "code",
      "source": "df_whg[df_whg.Typ=='zu'].Raum",
      "execution_count": 9,
      "outputs": [
        {
          "output_type": "execute_result",
          "execution_count": 9,
          "data": {
            "text/plain": "0    Schlafen\n4      Wohnen\n5    Zimmer_2\n6    Zimmer_1\nName: Raum, dtype: object"
          },
          "metadata": {}
        }
      ]
    },
    {
      "metadata": {
        "trusted": true
      },
      "cell_type": "code",
      "source": "df_whg['f'] = pd.Series([2,3,2,2],index=[0,4,5,6])\ndf_whg",
      "execution_count": 10,
      "outputs": [
        {
          "output_type": "execute_result",
          "execution_count": 10,
          "data": {
            "text/html": "<div>\n<style scoped>\n    .dataframe tbody tr th:only-of-type {\n        vertical-align: middle;\n    }\n\n    .dataframe tbody tr th {\n        vertical-align: top;\n    }\n\n    .dataframe thead th {\n        text-align: right;\n    }\n</style>\n<table border=\"1\" class=\"dataframe\">\n  <thead>\n    <tr style=\"text-align: right;\">\n      <th></th>\n      <th>Raum</th>\n      <th>Flaeche</th>\n      <th>Typ</th>\n      <th>dV_min</th>\n      <th>f</th>\n    </tr>\n  </thead>\n  <tbody>\n    <tr>\n      <th>0</th>\n      <td>Schlafen</td>\n      <td>13.47</td>\n      <td>zu</td>\n      <td>NaN</td>\n      <td>2.0</td>\n    </tr>\n    <tr>\n      <th>1</th>\n      <td>Bad</td>\n      <td>9.06</td>\n      <td>ab</td>\n      <td>45.0</td>\n      <td>NaN</td>\n    </tr>\n    <tr>\n      <th>2</th>\n      <td>Abstellraum</td>\n      <td>2.57</td>\n      <td>ab</td>\n      <td>25.0</td>\n      <td>NaN</td>\n    </tr>\n    <tr>\n      <th>3</th>\n      <td>Kochen</td>\n      <td>7.16</td>\n      <td>ab</td>\n      <td>45.0</td>\n      <td>NaN</td>\n    </tr>\n    <tr>\n      <th>4</th>\n      <td>Wohnen</td>\n      <td>26.98</td>\n      <td>zu</td>\n      <td>NaN</td>\n      <td>3.0</td>\n    </tr>\n    <tr>\n      <th>5</th>\n      <td>Zimmer_2</td>\n      <td>13.96</td>\n      <td>zu</td>\n      <td>NaN</td>\n      <td>2.0</td>\n    </tr>\n    <tr>\n      <th>6</th>\n      <td>Zimmer_1</td>\n      <td>11.89</td>\n      <td>zu</td>\n      <td>NaN</td>\n      <td>2.0</td>\n    </tr>\n    <tr>\n      <th>7</th>\n      <td>WC</td>\n      <td>1.45</td>\n      <td>ab</td>\n      <td>25.0</td>\n      <td>NaN</td>\n    </tr>\n    <tr>\n      <th>8</th>\n      <td>Flur</td>\n      <td>9.07</td>\n      <td>None</td>\n      <td>NaN</td>\n      <td>NaN</td>\n    </tr>\n  </tbody>\n</table>\n</div>",
            "text/plain": "          Raum  Flaeche   Typ  dV_min    f\n0     Schlafen    13.47    zu     NaN  2.0\n1          Bad     9.06    ab    45.0  NaN\n2  Abstellraum     2.57    ab    25.0  NaN\n3       Kochen     7.16    ab    45.0  NaN\n4       Wohnen    26.98    zu     NaN  3.0\n5     Zimmer_2    13.96    zu     NaN  2.0\n6     Zimmer_1    11.89    zu     NaN  2.0\n7           WC     1.45    ab    25.0  NaN\n8         Flur     9.07  None     NaN  NaN"
          },
          "metadata": {}
        }
      ]
    },
    {
      "metadata": {
        "trusted": true
      },
      "cell_type": "code",
      "source": "f_ges = df_whg.f.sum()\ndf_whg['dV_zu'] = df_whg.f/f_ges*dV_L\ndf_whg['dV_ab'] = df_whg.dV_min/df_whg.dV_min.sum()*dV_L\ndf_whg = df_whg.fillna(0)\ndf_whg",
      "execution_count": 13,
      "outputs": [
        {
          "output_type": "execute_result",
          "execution_count": 13,
          "data": {
            "text/html": "<div>\n<style scoped>\n    .dataframe tbody tr th:only-of-type {\n        vertical-align: middle;\n    }\n\n    .dataframe tbody tr th {\n        vertical-align: top;\n    }\n\n    .dataframe thead th {\n        text-align: right;\n    }\n</style>\n<table border=\"1\" class=\"dataframe\">\n  <thead>\n    <tr style=\"text-align: right;\">\n      <th></th>\n      <th>Raum</th>\n      <th>Flaeche</th>\n      <th>Typ</th>\n      <th>dV_min</th>\n      <th>f</th>\n      <th>dV_zu</th>\n      <th>dV_ab</th>\n    </tr>\n  </thead>\n  <tbody>\n    <tr>\n      <th>0</th>\n      <td>Schlafen</td>\n      <td>13.47</td>\n      <td>zu</td>\n      <td>0.0</td>\n      <td>2.0</td>\n      <td>26.537168</td>\n      <td>0.000000</td>\n    </tr>\n    <tr>\n      <th>1</th>\n      <td>Bad</td>\n      <td>9.06</td>\n      <td>ab</td>\n      <td>45.0</td>\n      <td>0.0</td>\n      <td>0.000000</td>\n      <td>38.384117</td>\n    </tr>\n    <tr>\n      <th>2</th>\n      <td>Abstellraum</td>\n      <td>2.57</td>\n      <td>ab</td>\n      <td>25.0</td>\n      <td>0.0</td>\n      <td>0.000000</td>\n      <td>21.324510</td>\n    </tr>\n    <tr>\n      <th>3</th>\n      <td>Kochen</td>\n      <td>7.16</td>\n      <td>ab</td>\n      <td>45.0</td>\n      <td>0.0</td>\n      <td>0.000000</td>\n      <td>38.384117</td>\n    </tr>\n    <tr>\n      <th>4</th>\n      <td>Wohnen</td>\n      <td>26.98</td>\n      <td>zu</td>\n      <td>0.0</td>\n      <td>3.0</td>\n      <td>39.805751</td>\n      <td>0.000000</td>\n    </tr>\n    <tr>\n      <th>5</th>\n      <td>Zimmer_2</td>\n      <td>13.96</td>\n      <td>zu</td>\n      <td>0.0</td>\n      <td>2.0</td>\n      <td>26.537168</td>\n      <td>0.000000</td>\n    </tr>\n    <tr>\n      <th>6</th>\n      <td>Zimmer_1</td>\n      <td>11.89</td>\n      <td>zu</td>\n      <td>0.0</td>\n      <td>2.0</td>\n      <td>26.537168</td>\n      <td>0.000000</td>\n    </tr>\n    <tr>\n      <th>7</th>\n      <td>WC</td>\n      <td>1.45</td>\n      <td>ab</td>\n      <td>25.0</td>\n      <td>0.0</td>\n      <td>0.000000</td>\n      <td>21.324510</td>\n    </tr>\n    <tr>\n      <th>8</th>\n      <td>Flur</td>\n      <td>9.07</td>\n      <td>0</td>\n      <td>0.0</td>\n      <td>0.0</td>\n      <td>0.000000</td>\n      <td>0.000000</td>\n    </tr>\n  </tbody>\n</table>\n</div>",
            "text/plain": "          Raum  Flaeche Typ  dV_min    f      dV_zu      dV_ab\n0     Schlafen    13.47  zu     0.0  2.0  26.537168   0.000000\n1          Bad     9.06  ab    45.0  0.0   0.000000  38.384117\n2  Abstellraum     2.57  ab    25.0  0.0   0.000000  21.324510\n3       Kochen     7.16  ab    45.0  0.0   0.000000  38.384117\n4       Wohnen    26.98  zu     0.0  3.0  39.805751   0.000000\n5     Zimmer_2    13.96  zu     0.0  2.0  26.537168   0.000000\n6     Zimmer_1    11.89  zu     0.0  2.0  26.537168   0.000000\n7           WC     1.45  ab    25.0  0.0   0.000000  21.324510\n8         Flur     9.07   0     0.0  0.0   0.000000   0.000000"
          },
          "metadata": {}
        }
      ]
    }
  ],
  "metadata": {
    "kernelspec": {
      "name": "python36",
      "display_name": "Python 3.6",
      "language": "python"
    },
    "language_info": {
      "mimetype": "text/x-python",
      "nbconvert_exporter": "python",
      "name": "python",
      "pygments_lexer": "ipython3",
      "version": "3.6.6",
      "file_extension": ".py",
      "codemirror_mode": {
        "version": 3,
        "name": "ipython"
      }
    }
  },
  "nbformat": 4,
  "nbformat_minor": 1
}