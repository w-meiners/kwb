{
 "cells": [
  {
   "cell_type": "code",
   "execution_count": 1,
   "metadata": {},
   "outputs": [
    {
     "data": {
      "application/javascript": [
       "IPython.notebook.set_autosave_interval(3600000)"
      ]
     },
     "metadata": {},
     "output_type": "display_data"
    },
    {
     "name": "stdout",
     "output_type": "stream",
     "text": [
      "Autosaving every 3600 seconds\n"
     ]
    }
   ],
   "source": [
    "%autosave 3600"
   ]
  },
  {
   "cell_type": "code",
   "execution_count": 2,
   "metadata": {},
   "outputs": [],
   "source": [
    "import bel_konzept as bk\n",
    "import pandas as pd\n",
    "import numpy as np"
   ]
  },
  {
   "cell_type": "markdown",
   "metadata": {},
   "source": [
    "Dataframes für die Wohnung aufstellen und in Zu- und Ablufträume separieren:"
   ]
  },
  {
   "cell_type": "code",
   "execution_count": 4,
   "metadata": {},
   "outputs": [
    {
     "data": {
      "text/html": [
       "<div>\n",
       "<style scoped>\n",
       "    .dataframe tbody tr th:only-of-type {\n",
       "        vertical-align: middle;\n",
       "    }\n",
       "\n",
       "    .dataframe tbody tr th {\n",
       "        vertical-align: top;\n",
       "    }\n",
       "\n",
       "    .dataframe thead th {\n",
       "        text-align: right;\n",
       "    }\n",
       "</style>\n",
       "<table border=\"1\" class=\"dataframe\">\n",
       "  <thead>\n",
       "    <tr style=\"text-align: right;\">\n",
       "      <th></th>\n",
       "      <th>Raum</th>\n",
       "      <th>Flaeche</th>\n",
       "      <th>Typ</th>\n",
       "      <th>dV_min</th>\n",
       "    </tr>\n",
       "  </thead>\n",
       "  <tbody>\n",
       "    <tr>\n",
       "      <th>0</th>\n",
       "      <td>Schlafen</td>\n",
       "      <td>13.47</td>\n",
       "      <td>zu</td>\n",
       "      <td>NaN</td>\n",
       "    </tr>\n",
       "    <tr>\n",
       "      <th>1</th>\n",
       "      <td>Bad</td>\n",
       "      <td>9.06</td>\n",
       "      <td>ab</td>\n",
       "      <td>45.0</td>\n",
       "    </tr>\n",
       "    <tr>\n",
       "      <th>2</th>\n",
       "      <td>Abstellraum</td>\n",
       "      <td>2.57</td>\n",
       "      <td>ab</td>\n",
       "      <td>25.0</td>\n",
       "    </tr>\n",
       "    <tr>\n",
       "      <th>3</th>\n",
       "      <td>Kochen</td>\n",
       "      <td>7.16</td>\n",
       "      <td>ab</td>\n",
       "      <td>45.0</td>\n",
       "    </tr>\n",
       "    <tr>\n",
       "      <th>4</th>\n",
       "      <td>Wohnen</td>\n",
       "      <td>26.98</td>\n",
       "      <td>zu</td>\n",
       "      <td>NaN</td>\n",
       "    </tr>\n",
       "    <tr>\n",
       "      <th>5</th>\n",
       "      <td>Zimmer_2</td>\n",
       "      <td>13.96</td>\n",
       "      <td>zu</td>\n",
       "      <td>NaN</td>\n",
       "    </tr>\n",
       "    <tr>\n",
       "      <th>6</th>\n",
       "      <td>Zimmer_1</td>\n",
       "      <td>11.89</td>\n",
       "      <td>zu</td>\n",
       "      <td>NaN</td>\n",
       "    </tr>\n",
       "    <tr>\n",
       "      <th>7</th>\n",
       "      <td>WC</td>\n",
       "      <td>1.45</td>\n",
       "      <td>ab</td>\n",
       "      <td>25.0</td>\n",
       "    </tr>\n",
       "    <tr>\n",
       "      <th>8</th>\n",
       "      <td>Flur</td>\n",
       "      <td>9.07</td>\n",
       "      <td>--</td>\n",
       "      <td>NaN</td>\n",
       "    </tr>\n",
       "  </tbody>\n",
       "</table>\n",
       "</div>"
      ],
      "text/plain": [
       "          Raum  Flaeche Typ  dV_min\n",
       "0     Schlafen    13.47  zu     NaN\n",
       "1          Bad     9.06  ab    45.0\n",
       "2  Abstellraum     2.57  ab    25.0\n",
       "3       Kochen     7.16  ab    45.0\n",
       "4       Wohnen    26.98  zu     NaN\n",
       "5     Zimmer_2    13.96  zu     NaN\n",
       "6     Zimmer_1    11.89  zu     NaN\n",
       "7           WC     1.45  ab    25.0\n",
       "8         Flur     9.07  --     NaN"
      ]
     },
     "execution_count": 4,
     "metadata": {},
     "output_type": "execute_result"
    }
   ],
   "source": [
    "df_whg = pd.DataFrame(\n",
    "    [('Schlafen',13.47,'zu'),\n",
    "     ('Bad',9.06,'ab',45),\n",
    "     ('Abstellraum',2.57,'ab',25),\n",
    "     ('Kochen',7.16,'ab',45),\n",
    "     ('Wohnen',26.98,'zu'),\n",
    "     ('Zimmer_2',13.96,'zu'),\n",
    "     ('Zimmer_1',11.89,'zu'),\n",
    "     ('WC',1.45,'ab',25),\n",
    "     ('Flur',9.07,'--')\n",
    "    ],\n",
    "    columns=['Raum','Flaeche','Typ','dV_min']\n",
    ")\n",
    "df_whg"
   ]
  },
  {
   "cell_type": "code",
   "execution_count": 6,
   "metadata": {},
   "outputs": [
    {
     "name": "stdout",
     "output_type": "stream",
     "text": [
      "Zulufträume\n"
     ]
    },
    {
     "data": {
      "text/html": [
       "<div>\n",
       "<style scoped>\n",
       "    .dataframe tbody tr th:only-of-type {\n",
       "        vertical-align: middle;\n",
       "    }\n",
       "\n",
       "    .dataframe tbody tr th {\n",
       "        vertical-align: top;\n",
       "    }\n",
       "\n",
       "    .dataframe thead th {\n",
       "        text-align: right;\n",
       "    }\n",
       "</style>\n",
       "<table border=\"1\" class=\"dataframe\">\n",
       "  <thead>\n",
       "    <tr style=\"text-align: right;\">\n",
       "      <th></th>\n",
       "      <th>Raum</th>\n",
       "      <th>Flaeche</th>\n",
       "      <th>Typ</th>\n",
       "    </tr>\n",
       "  </thead>\n",
       "  <tbody>\n",
       "    <tr>\n",
       "      <th>0</th>\n",
       "      <td>Schlafen</td>\n",
       "      <td>13.47</td>\n",
       "      <td>zu</td>\n",
       "    </tr>\n",
       "    <tr>\n",
       "      <th>4</th>\n",
       "      <td>Wohnen</td>\n",
       "      <td>26.98</td>\n",
       "      <td>zu</td>\n",
       "    </tr>\n",
       "    <tr>\n",
       "      <th>5</th>\n",
       "      <td>Zimmer_2</td>\n",
       "      <td>13.96</td>\n",
       "      <td>zu</td>\n",
       "    </tr>\n",
       "    <tr>\n",
       "      <th>6</th>\n",
       "      <td>Zimmer_1</td>\n",
       "      <td>11.89</td>\n",
       "      <td>zu</td>\n",
       "    </tr>\n",
       "  </tbody>\n",
       "</table>\n",
       "</div>"
      ],
      "text/plain": [
       "       Raum  Flaeche Typ\n",
       "0  Schlafen    13.47  zu\n",
       "4    Wohnen    26.98  zu\n",
       "5  Zimmer_2    13.96  zu\n",
       "6  Zimmer_1    11.89  zu"
      ]
     },
     "metadata": {},
     "output_type": "display_data"
    }
   ],
   "source": [
    "df_zu = df_whg[df_whg.Typ=='zu'].copy()\n",
    "df_zu.drop(columns=['dV_min'],inplace=True)\n",
    "print('Zulufträume')\n",
    "display(df_zu)"
   ]
  },
  {
   "cell_type": "code",
   "execution_count": 7,
   "metadata": {},
   "outputs": [
    {
     "name": "stdout",
     "output_type": "stream",
     "text": [
      "Ablufträume\n"
     ]
    },
    {
     "data": {
      "text/html": [
       "<div>\n",
       "<style scoped>\n",
       "    .dataframe tbody tr th:only-of-type {\n",
       "        vertical-align: middle;\n",
       "    }\n",
       "\n",
       "    .dataframe tbody tr th {\n",
       "        vertical-align: top;\n",
       "    }\n",
       "\n",
       "    .dataframe thead th {\n",
       "        text-align: right;\n",
       "    }\n",
       "</style>\n",
       "<table border=\"1\" class=\"dataframe\">\n",
       "  <thead>\n",
       "    <tr style=\"text-align: right;\">\n",
       "      <th></th>\n",
       "      <th>Raum</th>\n",
       "      <th>Flaeche</th>\n",
       "      <th>Typ</th>\n",
       "      <th>dV_min</th>\n",
       "    </tr>\n",
       "  </thead>\n",
       "  <tbody>\n",
       "    <tr>\n",
       "      <th>1</th>\n",
       "      <td>Bad</td>\n",
       "      <td>9.06</td>\n",
       "      <td>ab</td>\n",
       "      <td>45.0</td>\n",
       "    </tr>\n",
       "    <tr>\n",
       "      <th>2</th>\n",
       "      <td>Abstellraum</td>\n",
       "      <td>2.57</td>\n",
       "      <td>ab</td>\n",
       "      <td>25.0</td>\n",
       "    </tr>\n",
       "    <tr>\n",
       "      <th>3</th>\n",
       "      <td>Kochen</td>\n",
       "      <td>7.16</td>\n",
       "      <td>ab</td>\n",
       "      <td>45.0</td>\n",
       "    </tr>\n",
       "    <tr>\n",
       "      <th>7</th>\n",
       "      <td>WC</td>\n",
       "      <td>1.45</td>\n",
       "      <td>ab</td>\n",
       "      <td>25.0</td>\n",
       "    </tr>\n",
       "  </tbody>\n",
       "</table>\n",
       "</div>"
      ],
      "text/plain": [
       "          Raum  Flaeche Typ  dV_min\n",
       "1          Bad     9.06  ab    45.0\n",
       "2  Abstellraum     2.57  ab    25.0\n",
       "3       Kochen     7.16  ab    45.0\n",
       "7           WC     1.45  ab    25.0"
      ]
     },
     "metadata": {},
     "output_type": "display_data"
    }
   ],
   "source": [
    "df_ab = df_whg[df_whg.Typ=='ab'].copy()\n",
    "print('Ablufträume')\n",
    "display(df_ab)"
   ]
  },
  {
   "cell_type": "markdown",
   "metadata": {},
   "source": [
    "Zuluftvolumenstrom, Abluftvolumenstrom und Infiltrationsvolumenstrom ermitteln:"
   ]
  },
  {
   "cell_type": "code",
   "execution_count": 8,
   "metadata": {},
   "outputs": [
    {
     "data": {
      "text/plain": [
       "120.8102279"
      ]
     },
     "execution_count": 8,
     "metadata": {},
     "output_type": "execute_result"
    }
   ],
   "source": [
    "# Nutzfläche\n",
    "A_N = df_whg.Flaeche.sum() # in m**2\n",
    "\n",
    "# erforderlicher Zuluftvolumenstrom\n",
    "dV_ges_zu = bk.dV_ges_zu(A_N=A_N) # in m**3/h\n",
    "dV_ges_zu # in m**3/h"
   ]
  },
  {
   "cell_type": "code",
   "execution_count": 9,
   "metadata": {},
   "outputs": [
    {
     "data": {
      "text/plain": [
       "140.0"
      ]
     },
     "execution_count": 9,
     "metadata": {},
     "output_type": "execute_result"
    }
   ],
   "source": [
    "dV_ges_ab = df_ab.dV_min.sum()\n",
    "dV_ges_ab # in m**3/h"
   ]
  },
  {
   "cell_type": "markdown",
   "metadata": {},
   "source": [
    "Erforderlicher Gesamtvolumenstrom"
   ]
  },
  {
   "cell_type": "code",
   "execution_count": 11,
   "metadata": {},
   "outputs": [
    {
     "data": {
      "text/plain": [
       "140.0"
      ]
     },
     "execution_count": 11,
     "metadata": {},
     "output_type": "execute_result"
    }
   ],
   "source": [
    "dV_ges = max(dV_ges_zu,dV_ges_ab)\n",
    "dV_ges # m**3/h"
   ]
  },
  {
   "cell_type": "markdown",
   "metadata": {},
   "source": [
    "Infiltrationsvolumenstrom:"
   ]
  },
  {
   "cell_type": "code",
   "execution_count": 10,
   "metadata": {},
   "outputs": [
    {
     "data": {
      "text/plain": [
       "20.58274616569973"
      ]
     },
     "execution_count": 10,
     "metadata": {},
     "output_type": "execute_result"
    }
   ],
   "source": [
    "f_inf = 0.4 # Mehrgeschossig, Installationsschacht\n",
    "n_50 = 1 # h**(-1)\n",
    "h = 2.50 # m\n",
    "delta_p = 5 # Mehrgeschossig, Windschwach\n",
    "\n",
    "dV_inf = bk.dV_inf(f_inf,A_N,h,n_50,delta_p)\n",
    "dV_inf # Infiltrationsvolumenstrom in m**3/h"
   ]
  },
  {
   "cell_type": "markdown",
   "metadata": {},
   "source": [
    "Erforderlicher Lüftungsvolumenstrom am Ventilator"
   ]
  },
  {
   "cell_type": "code",
   "execution_count": 12,
   "metadata": {},
   "outputs": [
    {
     "data": {
      "text/plain": [
       "119.41725383430027"
      ]
     },
     "execution_count": 12,
     "metadata": {},
     "output_type": "execute_result"
    }
   ],
   "source": [
    "dV_L = dV_ges - dV_inf\n",
    "dV_L # m**3/h"
   ]
  },
  {
   "cell_type": "markdown",
   "metadata": {},
   "source": [
    "Verteilung der Zuluft auf die Zulufträume:"
   ]
  },
  {
   "cell_type": "code",
   "execution_count": 13,
   "metadata": {},
   "outputs": [
    {
     "data": {
      "text/html": [
       "<div>\n",
       "<style scoped>\n",
       "    .dataframe tbody tr th:only-of-type {\n",
       "        vertical-align: middle;\n",
       "    }\n",
       "\n",
       "    .dataframe tbody tr th {\n",
       "        vertical-align: top;\n",
       "    }\n",
       "\n",
       "    .dataframe thead th {\n",
       "        text-align: right;\n",
       "    }\n",
       "</style>\n",
       "<table border=\"1\" class=\"dataframe\">\n",
       "  <thead>\n",
       "    <tr style=\"text-align: right;\">\n",
       "      <th></th>\n",
       "      <th>Raum</th>\n",
       "      <th>Flaeche</th>\n",
       "      <th>Typ</th>\n",
       "      <th>f</th>\n",
       "      <th>dV</th>\n",
       "      <th>d_min</th>\n",
       "      <th>d_g</th>\n",
       "      <th>v_g</th>\n",
       "      <th>p_dyn</th>\n",
       "    </tr>\n",
       "  </thead>\n",
       "  <tbody>\n",
       "    <tr>\n",
       "      <th>0</th>\n",
       "      <td>Schlafen</td>\n",
       "      <td>13.47</td>\n",
       "      <td>zu</td>\n",
       "      <td>2</td>\n",
       "      <td>26.537168</td>\n",
       "      <td>0.068504</td>\n",
       "      <td>0.08</td>\n",
       "      <td>1.466500</td>\n",
       "      <td>1.290374</td>\n",
       "    </tr>\n",
       "    <tr>\n",
       "      <th>4</th>\n",
       "      <td>Wohnen</td>\n",
       "      <td>26.98</td>\n",
       "      <td>zu</td>\n",
       "      <td>3</td>\n",
       "      <td>39.805751</td>\n",
       "      <td>0.083900</td>\n",
       "      <td>0.09</td>\n",
       "      <td>1.738075</td>\n",
       "      <td>1.812542</td>\n",
       "    </tr>\n",
       "    <tr>\n",
       "      <th>5</th>\n",
       "      <td>Zimmer_2</td>\n",
       "      <td>13.96</td>\n",
       "      <td>zu</td>\n",
       "      <td>2</td>\n",
       "      <td>26.537168</td>\n",
       "      <td>0.068504</td>\n",
       "      <td>0.08</td>\n",
       "      <td>1.466500</td>\n",
       "      <td>1.290374</td>\n",
       "    </tr>\n",
       "    <tr>\n",
       "      <th>6</th>\n",
       "      <td>Zimmer_1</td>\n",
       "      <td>11.89</td>\n",
       "      <td>zu</td>\n",
       "      <td>2</td>\n",
       "      <td>26.537168</td>\n",
       "      <td>0.068504</td>\n",
       "      <td>0.08</td>\n",
       "      <td>1.466500</td>\n",
       "      <td>1.290374</td>\n",
       "    </tr>\n",
       "  </tbody>\n",
       "</table>\n",
       "</div>"
      ],
      "text/plain": [
       "       Raum  Flaeche Typ  f         dV     d_min   d_g       v_g     p_dyn\n",
       "0  Schlafen    13.47  zu  2  26.537168  0.068504  0.08  1.466500  1.290374\n",
       "4    Wohnen    26.98  zu  3  39.805751  0.083900  0.09  1.738075  1.812542\n",
       "5  Zimmer_2    13.96  zu  2  26.537168  0.068504  0.08  1.466500  1.290374\n",
       "6  Zimmer_1    11.89  zu  2  26.537168  0.068504  0.08  1.466500  1.290374"
      ]
     },
     "execution_count": 13,
     "metadata": {},
     "output_type": "execute_result"
    }
   ],
   "source": [
    "idx_zu = df_zu.index\n",
    "\n",
    "# Faktoren\n",
    "df_zu['f'] = pd.DataFrame([2,3,2,2],index=idx_zu)\n",
    "df_zu['dV'] = df_zu.f/df_zu.f.sum()*dV_L\n",
    "\n",
    "v = 2 # Zuluftgeschwindigkeit in m/s\n",
    "hour = 3600 # 1 Stunde in Sekunden\n",
    "\n",
    "df_zu['d_min'] = np.sqrt(4*df_zu.dV/(hour*np.pi*v))\n",
    "df_zu['d_g'] = df_zu.apply(lambda x: bk.norm_durchmesser(1000*x.d_min)/1000,axis=1)\n",
    "df_zu['v_g'] = (df_zu.d_min/df_zu.d_g)**2*v\n",
    "\n",
    "rho = 1.2 # kg/m**3\n",
    "df_zu['p_dyn'] = rho/2*(df_zu.v_g)**2\n",
    "df_zu"
   ]
  },
  {
   "cell_type": "markdown",
   "metadata": {},
   "source": [
    "Verteilung der Abluft auf die Ablufträume"
   ]
  },
  {
   "cell_type": "code",
   "execution_count": 14,
   "metadata": {},
   "outputs": [
    {
     "data": {
      "text/html": [
       "<div>\n",
       "<style scoped>\n",
       "    .dataframe tbody tr th:only-of-type {\n",
       "        vertical-align: middle;\n",
       "    }\n",
       "\n",
       "    .dataframe tbody tr th {\n",
       "        vertical-align: top;\n",
       "    }\n",
       "\n",
       "    .dataframe thead th {\n",
       "        text-align: right;\n",
       "    }\n",
       "</style>\n",
       "<table border=\"1\" class=\"dataframe\">\n",
       "  <thead>\n",
       "    <tr style=\"text-align: right;\">\n",
       "      <th></th>\n",
       "      <th>Raum</th>\n",
       "      <th>Flaeche</th>\n",
       "      <th>Typ</th>\n",
       "      <th>dV_min</th>\n",
       "      <th>dV</th>\n",
       "      <th>d_min</th>\n",
       "      <th>d_g</th>\n",
       "      <th>v_g</th>\n",
       "      <th>p_dyn</th>\n",
       "    </tr>\n",
       "  </thead>\n",
       "  <tbody>\n",
       "    <tr>\n",
       "      <th>1</th>\n",
       "      <td>Bad</td>\n",
       "      <td>9.06</td>\n",
       "      <td>ab</td>\n",
       "      <td>45.0</td>\n",
       "      <td>38.384117</td>\n",
       "      <td>0.082388</td>\n",
       "      <td>0.09</td>\n",
       "      <td>1.676001</td>\n",
       "      <td>1.685387</td>\n",
       "    </tr>\n",
       "    <tr>\n",
       "      <th>2</th>\n",
       "      <td>Abstellraum</td>\n",
       "      <td>2.57</td>\n",
       "      <td>ab</td>\n",
       "      <td>25.0</td>\n",
       "      <td>21.324510</td>\n",
       "      <td>0.061408</td>\n",
       "      <td>0.08</td>\n",
       "      <td>1.178438</td>\n",
       "      <td>0.833230</td>\n",
       "    </tr>\n",
       "    <tr>\n",
       "      <th>3</th>\n",
       "      <td>Kochen</td>\n",
       "      <td>7.16</td>\n",
       "      <td>ab</td>\n",
       "      <td>45.0</td>\n",
       "      <td>38.384117</td>\n",
       "      <td>0.082388</td>\n",
       "      <td>0.09</td>\n",
       "      <td>1.676001</td>\n",
       "      <td>1.685387</td>\n",
       "    </tr>\n",
       "    <tr>\n",
       "      <th>7</th>\n",
       "      <td>WC</td>\n",
       "      <td>1.45</td>\n",
       "      <td>ab</td>\n",
       "      <td>25.0</td>\n",
       "      <td>21.324510</td>\n",
       "      <td>0.061408</td>\n",
       "      <td>0.08</td>\n",
       "      <td>1.178438</td>\n",
       "      <td>0.833230</td>\n",
       "    </tr>\n",
       "  </tbody>\n",
       "</table>\n",
       "</div>"
      ],
      "text/plain": [
       "          Raum  Flaeche Typ  dV_min         dV     d_min   d_g       v_g  \\\n",
       "1          Bad     9.06  ab    45.0  38.384117  0.082388  0.09  1.676001   \n",
       "2  Abstellraum     2.57  ab    25.0  21.324510  0.061408  0.08  1.178438   \n",
       "3       Kochen     7.16  ab    45.0  38.384117  0.082388  0.09  1.676001   \n",
       "7           WC     1.45  ab    25.0  21.324510  0.061408  0.08  1.178438   \n",
       "\n",
       "      p_dyn  \n",
       "1  1.685387  \n",
       "2  0.833230  \n",
       "3  1.685387  \n",
       "7  0.833230  "
      ]
     },
     "execution_count": 14,
     "metadata": {},
     "output_type": "execute_result"
    }
   ],
   "source": [
    "idx_ab = df_ab.index\n",
    "\n",
    "df_ab['dV'] = df_ab.dV_min/df_ab.dV_min.sum()*dV_L\n",
    "\n",
    "df_ab['d_min'] = np.sqrt(4*df_ab.dV/(hour*np.pi*v))\n",
    "df_ab['d_g'] = df_ab.apply(lambda x: bk.norm_durchmesser(1000*x.d_min)/1000,axis=1)\n",
    "df_ab['v_g'] = (df_ab.d_min/df_ab.d_g)**2*v\n",
    "df_ab['p_dyn'] = rho/2*(df_ab.v_g)**2\n",
    "\n",
    "df_ab"
   ]
  }
 ],
 "metadata": {
  "kernelspec": {
   "display_name": "python 3.6",
   "language": "python",
   "name": "python36"
  },
  "language_info": {
   "codemirror_mode": {
    "name": "ipython",
    "version": 3
   },
   "file_extension": ".py",
   "mimetype": "text/x-python",
   "name": "python",
   "nbconvert_exporter": "python",
   "pygments_lexer": "ipython3",
   "version": "3.6.8"
  }
 },
 "nbformat": 4,
 "nbformat_minor": 2
}
