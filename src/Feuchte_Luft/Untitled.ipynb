{
  "cells": [
    {
      "metadata": {
        "trusted": true
      },
      "cell_type": "code",
      "source": "import iapws\nimport iapws.humidAir as hair",
      "execution_count": null,
      "outputs": []
    },
    {
      "metadata": {
        "trusted": true
      },
      "cell_type": "code",
      "source": "help(hair.HumidAir)",
      "execution_count": null,
      "outputs": []
    },
    {
      "metadata": {
        "trusted": true
      },
      "cell_type": "code",
      "source": "T_0 = 273.15 # K\np_0 = hair.HumidAir(T=30+T_0,P=0.0950,W=5e-3)\np_0.kwargs",
      "execution_count": null,
      "outputs": []
    },
    {
      "metadata": {
        "trusted": true
      },
      "cell_type": "code",
      "source": "p_0.RH",
      "execution_count": null,
      "outputs": []
    },
    {
      "metadata": {
        "trusted": true
      },
      "cell_type": "code",
      "source": "p_1 = hair.HumidAir(T=T_0+20,P=0.1013,W=15e-3)\np_1.cp",
      "execution_count": null,
      "outputs": []
    },
    {
      "metadata": {
        "trusted": true
      },
      "cell_type": "code",
      "source": "from iapws import IAPWS97\nsat_steam = IAPWS97(P=1,x=1)\nsat_liquid = IAPWS97(T=370,x=0)\nsteam = IAPWS97(P=2.5,T=500)\n\nprint(sat_steam.h, sat_liquid.h, steam.h)",
      "execution_count": null,
      "outputs": []
    }
  ],
  "metadata": {
    "kernelspec": {
      "name": "python36",
      "display_name": "Python 3.6",
      "language": "python"
    }
  },
  "nbformat": 4,
  "nbformat_minor": 1
}